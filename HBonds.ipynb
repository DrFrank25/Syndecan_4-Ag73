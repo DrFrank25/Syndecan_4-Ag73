{
  "nbformat": 4,
  "nbformat_minor": 0,
  "metadata": {
    "colab": {
      "provenance": [],
      "authorship_tag": "ABX9TyPMWJZn6z+Lwlz7rSAB909H",
      "include_colab_link": true
    },
    "kernelspec": {
      "name": "python3",
      "display_name": "Python 3"
    },
    "language_info": {
      "name": "python"
    }
  },
  "cells": [
    {
      "cell_type": "markdown",
      "metadata": {
        "id": "view-in-github",
        "colab_type": "text"
      },
      "source": [
        "<a href=\"https://colab.research.google.com/github/DrFrank25/Syndecan_4-Ag73/blob/main/HBonds.ipynb\" target=\"_parent\"><img src=\"https://colab.research.google.com/assets/colab-badge.svg\" alt=\"Open In Colab\"/></a>"
      ]
    },
    {
      "cell_type": "markdown",
      "source": [
        "**Script Hydrogen Bonds (H-bonds) plot**"
      ],
      "metadata": {
        "id": "EKvON_whm-CG"
      }
    },
    {
      "cell_type": "code",
      "execution_count": null,
      "metadata": {
        "id": "g_2kumBPm7na"
      },
      "outputs": [],
      "source": [
        "# --- Import libraries ---\n",
        "import numpy as np\n",
        "import matplotlib.pyplot as plt\n",
        "from google.colab import files\n",
        "import pandas as pd"
      ]
    },
    {
      "cell_type": "code",
      "source": [
        "# ===== Settings =====\n",
        "COLORS = ['#1f77b4', '#ff7f0e', '#2ca02c']\n",
        "FIGSIZE = (11, 6)\n",
        "DPI = 600\n",
        "LEGEND_NAMES = [\"Run 1\", \"Run 2\", \"Run 3\"]"
      ],
      "metadata": {
        "id": "WYxWqMiQm9uO"
      },
      "execution_count": null,
      "outputs": []
    },
    {
      "cell_type": "code",
      "source": [
        "# ===== File upload =====\n",
        "uploaded = files.upload()\n",
        "if not uploaded:\n",
        "    raise SystemExit(\"No file uploaded. Please upload .xvg files.\")\n"
      ],
      "metadata": {
        "id": "YkMXMEq7ne6I"
      },
      "execution_count": null,
      "outputs": []
    },
    {
      "cell_type": "code",
      "source": [
        "# ===== Function to read .xvg data =====\n",
        "def read_xvg_from_bytes(content_bytes, encoding='utf-8'):\n",
        "    s = content_bytes.decode(encoding, errors='replace')\n",
        "    times, vals = [], []\n",
        "    for line in s.splitlines():\n",
        "        line = line.strip()\n",
        "        if not line or line.startswith(('#', '@')):\n",
        "            continue\n",
        "        parts = line.split()\n",
        "        if len(parts) >= 2:\n",
        "            try:\n",
        "                times.append(float(parts[0]))\n",
        "                vals.append(float(parts[1]))\n",
        "            except ValueError:\n",
        "                continue\n",
        "    return np.array(times), np.array(vals)\n",
        "\n",
        "plt.figure(figsize=FIGSIZE)\n"
      ],
      "metadata": {
        "id": "a_hcgGbUnfC-"
      },
      "execution_count": null,
      "outputs": []
    },
    {
      "cell_type": "code",
      "source": [
        "# Loop over uploaded files\n",
        "for i, (name, content) in enumerate(uploaded.items()):\n",
        "    time, hbonds = read_xvg_from_bytes(content)\n",
        "\n",
        "    if time.size == 0 or hbonds.size == 0:\n",
        "        print(f\"Warning: '{name}' contains no valid data. Skipping.\")\n",
        "        continue\n",
        "\n",
        "    # Sort by time\n",
        "    order = np.argsort(time)\n",
        "    time = time[order]\n",
        "    hbonds = hbonds[order]\n",
        "\n",
        "    # Mask valid data\n",
        "    mask_valid = np.isfinite(time) & np.isfinite(hbonds) & (time >= 0) & (hbonds >= 0)\n",
        "    time_masked = np.where(mask_valid, time, np.nan)\n",
        "    hbonds_masked = np.where(mask_valid, hbonds, np.nan)\n",
        "\n",
        "    # Statistics\n",
        "    mean_val = np.nanmean(hbonds_masked)\n",
        "    std_val = np.nanstd(hbonds_masked)\n",
        "\n",
        "    color = COLORS[i % len(COLORS)]\n",
        "    curve_name = LEGEND_NAMES[i] if i < len(LEGEND_NAMES) else f\"Run {i+1}\"\n",
        "\n",
        "    # Raw curve\n",
        "    valid_raw = np.isfinite(time_masked) & np.isfinite(hbonds_masked)\n",
        "    plt.plot(time_masked[valid_raw], hbonds_masked[valid_raw],\n",
        "             linewidth=1.0, label=f\"{curve_name}\", color=color)\n",
        "\n",
        "    print(f\"{curve_name}:\")\n",
        "    print(f\"  Mean: {mean_val:.2f} H-bonds\")\n",
        "    print(f\"  Standard deviation: {std_val:.2f} H-bonds\\n\")\n",
        "\n",
        "# Axes configuration\n",
        "plt.xlabel(\"Time (ps)\", fontsize=12)\n",
        "plt.ylabel(\"No. of hydrogen bonds\", fontsize=12)\n",
        "plt.tick_params(axis='both', which='major', labelsize=14)\n",
        "\n",
        "# Custom legend\n",
        "plt.legend(\n",
        "    loc='upper right',\n",
        "    fontsize=10,\n",
        "    frameon=True,\n",
        "    facecolor='white',\n",
        "    edgecolor='white',\n",
        "    fancybox=False,\n",
        "    shadow=False\n",
        ")\n",
        "\n",
        "plt.grid(False)\n",
        "plt.tight_layout()\n",
        "\n",
        "# --- save and render the figure (at the end of the script, BEFORE plt.show()) ---\n",
        "fig = plt.gcf()  # get the current figure (the one just plotted)\n",
        "fig.tight_layout()\n",
        "fig.canvas.draw()  # force rendering in Colab\n",
        "plt.show()"
      ],
      "metadata": {
        "id": "EOeJn1MrnfIQ"
      },
      "execution_count": null,
      "outputs": []
    },
    {
      "cell_type": "code",
      "source": [
        "# --- Save and download the figure ---\n",
        "fig = plt.gcf()  # get current figure\n",
        "fig.tight_layout()\n",
        "fig.canvas.draw()\n",
        "\n",
        "fig.savefig(\n",
        "    \"HBonds.png\",\n",
        "    dpi=1200,\n",
        "    bbox_inches='tight',\n",
        "    transparent=False\n",
        ")\n",
        "\n",
        "files.download(\"HBonds.png\")"
      ],
      "metadata": {
        "id": "lu6HKEZpnfOd"
      },
      "execution_count": null,
      "outputs": []
    },
    {
      "cell_type": "code",
      "source": [
        "# ======================\n",
        "# Overall mean of the 3 runs (raw values)\n",
        "# ======================\n",
        "\n",
        "all_values = []\n",
        "\n",
        "for name, content in uploaded.items():\n",
        "    time, hbonds = read_xvg_from_bytes(content)\n",
        "    mask_valid = np.isfinite(hbonds) & (hbonds >= 0)\n",
        "    if np.any(mask_valid):\n",
        "        all_values.extend(hbonds[mask_valid])\n",
        "\n",
        "all_values = np.array(all_values)\n",
        "\n",
        "global_mean = np.mean(all_values)\n",
        "global_std = np.std(all_values)\n",
        "\n",
        "print(\"\\n=== Global mean statistics (raw data) ===\")\n",
        "print(f\"Global mean: {global_mean:.4f} H-bonds\")\n",
        "print(f\"Global standard deviation: {global_std:.4f} H-bonds\")"
      ],
      "metadata": {
        "id": "qc-oHJD1nfRe"
      },
      "execution_count": null,
      "outputs": []
    }
  ]
}