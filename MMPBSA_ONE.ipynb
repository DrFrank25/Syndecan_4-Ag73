{
  "nbformat": 4,
  "nbformat_minor": 0,
  "metadata": {
    "colab": {
      "provenance": [],
      "authorship_tag": "ABX9TyMOnEbQu8r5wXU1T5oxN0zU",
      "include_colab_link": true
    },
    "kernelspec": {
      "name": "python3",
      "display_name": "Python 3"
    },
    "language_info": {
      "name": "python"
    }
  },
  "cells": [
    {
      "cell_type": "markdown",
      "metadata": {
        "id": "view-in-github",
        "colab_type": "text"
      },
      "source": [
        "<a href=\"https://colab.research.google.com/github/DrFrank25/Syndecan_4-Ag73/blob/main/MMPBSA_ONE.ipynb\" target=\"_parent\"><img src=\"https://colab.research.google.com/assets/colab-badge.svg\" alt=\"Open In Colab\"/></a>"
      ]
    },
    {
      "cell_type": "markdown",
      "source": [
        "**Binding Free Energy Calculation (MM-PBSA + Entropy)**"
      ],
      "metadata": {
        "id": "t0ibjtuO-gY_"
      }
    },
    {
      "cell_type": "code",
      "execution_count": null,
      "metadata": {
        "id": "c2lcaQ4L-XrI"
      },
      "outputs": [],
      "source": [
        "# ==========================================\n",
        "# 🚀 Binding Free Energy Calculation (MM-PBSA + Entropy) in Colab\n",
        "# ==========================================\n",
        "# -- Import Libraris ----\n",
        "import os, shutil, subprocess\n",
        "import pandas as pd\n",
        "import matplotlib.pyplot as plt"
      ]
    },
    {
      "cell_type": "code",
      "source": [
        "# ---------- Helpers ----------\n",
        "def run(cmd, **kw):\n",
        "    print(f\"\\n$ {cmd}\")\n",
        "    return subprocess.run(cmd, shell=True, check=True, text=True, **kw)"
      ],
      "metadata": {
        "id": "a4W6xbxS-t9s"
      },
      "execution_count": null,
      "outputs": []
    },
    {
      "cell_type": "code",
      "source": [
        "# ---------- 0) Micromamba + install deps ----------\n",
        "if not shutil.which(\"micromamba\"):\n",
        "    run(\"wget -qO- https://micro.mamba.pm/api/micromamba/linux-64/latest | tar -xvj bin/micromamba\")\n",
        "    os.environ[\"MAMBA_ROOT_PREFIX\"] = \"/root/micromamba\"\n",
        "    run(\"./bin/micromamba shell init -s bash -p /root/micromamba\")\n",
        "    os.environ[\"PATH\"] = \"/root/micromamba/bin:\" + os.environ[\"PATH\"]\n",
        "\n",
        "run(\"micromamba create -y -n gmx -c conda-forge gromacs gmx-mmpbsa python=3.11\")\n",
        "os.environ[\"PATH\"] = \"/root/micromamba/envs/gmx/bin:\" + os.environ[\"PATH\"]\n",
        "\n",
        "MMPBSA_BIN = \"gmx_MMPBSA\" if shutil.which(\"gmx_MMPBSA\") else (\"g_mmpbsa\" if shutil.which(\"g_mmpbsa\") else None)\n",
        "if MMPBSA_BIN is None:\n",
        "    raise SystemExit(\"Could not find gmx_MMPBSA/g_mmpbsa.\")"
      ],
      "metadata": {
        "id": "Tv6ndAzT-vO0"
      },
      "execution_count": null,
      "outputs": []
    },
    {
      "cell_type": "code",
      "source": [
        "# ---------- 1) Upload ----------\n",
        "from google.colab import files\n",
        "print(\"📂 Upload: topol.tpr, traj.xtc, index.ndx, mmpbsa.in\")\n",
        "uploaded = files.upload()\n"
      ],
      "metadata": {
        "id": "dOlDDtl9-2gJ"
      },
      "execution_count": null,
      "outputs": []
    },
    {
      "cell_type": "code",
      "source": [
        "# ---------- 2) Config QHA groups (ajuste conforme seu index.ndx) ----------\n",
        "COVAR_GROUPS = \"1 1\"   # fit group, analysis group\n",
        "ANAEIG_GROUP = \"1\"     # analysis group"
      ],
      "metadata": {
        "id": "Cyv5XffIAcY2"
      },
      "execution_count": null,
      "outputs": []
    },
    {
      "cell_type": "code",
      "source": [
        "## ---------- 3) Run MM-PBSA ----------\n",
        "os.makedirs(\"rep\", exist_ok=True)\n",
        "mm_out = \"rep/FINAL_RESULTS_MMPBSA.dat\"\n",
        "run(f\"{MMPBSA_BIN} -f traj.xtc -s topol.tpr -n index.ndx -i mmpbsa.in -o {mm_out} -nogui\")\n",
        "\n",
        "# Parse MM-PBSA\n",
        "mm = {}\n",
        "with open(mm_out) as f:\n",
        "    for line in f:\n",
        "        if line.strip() and not line.startswith(\"#\"):\n",
        "            parts = line.split()\n",
        "            if len(parts) >= 2:\n",
        "                try:\n",
        "                    mm[parts[0]] = float(parts[1])\n",
        "                except:\n",
        "                    pass\n",
        "\n",
        "# Normalizar chaves e calcular ΔH se necessário\n",
        "key_map = {\n",
        "    \"DeltaE_vdw\":\"DeltaE_vdw\",\"E_vdw\":\"DeltaE_vdw\",\n",
        "    \"DeltaE_ele\":\"DeltaE_ele\",\"E_ele\":\"DeltaE_ele\",\n",
        "    \"DeltaG_pol\":\"DeltaG_pol\",\"G_polar\":\"DeltaG_pol\",\n",
        "    \"DeltaG_np\":\"DeltaG_np\",\"G_nonpolar\":\"DeltaG_np\",\n",
        "    \"DeltaTOTAL\":\"DeltaTOTAL\",\"TOTAL\":\"DeltaTOTAL\"\n",
        "}\n",
        "mm_norm = {key_map.get(k, k): v for k, v in mm.items()}\n",
        "if \"DeltaTOTAL\" not in mm_norm:\n",
        "    mm_norm[\"DeltaTOTAL\"] = sum([\n",
        "        mm_norm.get(\"DeltaE_vdw\",0.0),\n",
        "        mm_norm.get(\"DeltaE_ele\",0.0),\n",
        "        mm_norm.get(\"DeltaG_pol\",0.0),\n",
        "        mm_norm.get(\"DeltaG_np\",0.0),\n",
        "    ])"
      ],
      "metadata": {
        "id": "Z1WN-cYXAm_D"
      },
      "execution_count": null,
      "outputs": []
    },
    {
      "cell_type": "code",
      "source": [
        "# ---------- 4) Entropia via QHA (gmx covar + gmx anaeig) ----------\n",
        "run(f\"echo {COVAR_GROUPS} | gmx covar -s topol.tpr -f traj.xtc -n index.ndx -o rep/eigenval.xvg -v rep/eigenvec.trr -quiet\")\n",
        "run(f\"echo {ANAEIG_GROUP} | gmx anaeig -v rep/eigenvec.trr -entropy rep/entropy.xvg -quiet\")\n",
        "\n",
        "TDeltaS = None\n",
        "with open(\"rep/entropy.xvg\") as f:\n",
        "    for line in f:\n",
        "        if line.startswith((\"#\",\"@\")) or not line.strip():\n",
        "            continue\n",
        "        parts = line.split()\n",
        "        try:\n",
        "            TDeltaS = float(parts[-1])  # kJ/mol\n",
        "        except:\n",
        "            pass\n",
        "if TDeltaS is None:\n",
        "    raise RuntimeError(\"Could not parse -TΔS from rep/entropy.xvg\")\n"
      ],
      "metadata": {
        "id": "JaZwjHLA_HPF"
      },
      "execution_count": null,
      "outputs": []
    },
    {
      "cell_type": "code",
      "source": [
        "# ---------- 5) Somatórios finais ----------\n",
        "row = {\n",
        "    \"ΔE_vdw\": mm_norm.get(\"DeltaE_vdw\", float(\"nan\")),\n",
        "    \"ΔE_ele\": mm_norm.get(\"DeltaE_ele\", float(\"nan\")),\n",
        "    \"ΔG_pol\": mm_norm.get(\"DeltaG_pol\", float(\"nan\")),\n",
        "    \"ΔG_np\":  mm_norm.get(\"DeltaG_np\",  float(\"nan\")),\n",
        "}\n",
        "row[\"ΔH\"] = row[\"ΔE_vdw\"] + row[\"ΔE_ele\"] + row[\"ΔG_pol\"] + row[\"ΔG_np\"]\n",
        "row[\"-TΔS\"] = TDeltaS\n",
        "row[\"ΔG_total\"] = row[\"ΔH\"] + row[\"-TΔS\"]\n",
        "\n",
        "df = pd.DataFrame([row], index=[\"Representative\"])\n",
        "display(df)\n"
      ],
      "metadata": {
        "id": "Xt1XrpIkERwo"
      },
      "execution_count": null,
      "outputs": []
    },
    {
      "cell_type": "code",
      "source": [
        "# ---------- 6) Export ----------\n",
        "df.to_csv(\"Binding_Energy_Representative.csv\", float_format=\"%.4f\")\n",
        "print(\"✅ Saved: Binding_Energy_Representative.csv\")"
      ],
      "metadata": {
        "id": "tcgMcI9PET36"
      },
      "execution_count": null,
      "outputs": []
    },
    {
      "cell_type": "code",
      "source": [
        "# ---------- 7) Gráficos ----------\n",
        "# (a) Decomposição completa (inclui ΔH, -TΔS, ΔG_total)\n",
        "terms_all = [\"ΔE_vdw\",\"ΔE_ele\",\"ΔG_pol\",\"ΔG_np\",\"ΔH\",\"-TΔS\",\"ΔG_total\"]\n",
        "ax = df[terms_all].T.plot(kind=\"bar\", figsize=(10,6), edgecolor=\"black\")\n",
        "ax.set_ylabel(\"Energy (kJ/mol)\")\n",
        "ax.set_title(\"Energy Decomposition — Representative Replicate\")\n",
        "ax.set_xticklabels(terms_all, rotation=45, ha=\"right\")\n",
        "plt.tight_layout()\n",
        "plt.savefig(\"Energy_Decomposition_Representative.png\", dpi=300)\n",
        "plt.show()\n",
        "print(\"📊 Saved: Energy_Decomposition_Representative.png\")\n",
        "\n",
        "# (b) Somente contribuições energéticas solicitadas\n",
        "terms_core = [\"ΔE_vdw\",\"ΔE_ele\",\"ΔG_pol\",\"ΔG_np\"]\n",
        "ax2 = df[terms_core].T.plot(kind=\"bar\", figsize=(8,5), edgecolor=\"black\")\n",
        "ax2.set_ylabel(\"Energy (kJ/mol)\")\n",
        "ax2.set_title(\"Core Energy Terms — Representative Replicate\")\n",
        "ax2.set_xticklabels(terms_core, rotation=45, ha=\"right\")\n",
        "plt.tight_layout()\n",
        "plt.savefig(\"Energy_CoreTerms_Representative.png\", dpi=300)\n",
        "plt.show()\n",
        "print(\"📊 Saved: Energy_CoreTerms_Representative.png\")\n",
        "\n",
        "print(\"✅ Done.\")"
      ],
      "metadata": {
        "id": "BTRLXraYEUf2"
      },
      "execution_count": null,
      "outputs": []
    }
  ]
}