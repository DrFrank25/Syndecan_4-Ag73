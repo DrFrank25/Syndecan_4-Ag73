{
  "nbformat": 4,
  "nbformat_minor": 0,
  "metadata": {
    "colab": {
      "provenance": [],
      "authorship_tag": "ABX9TyMoyu7/XpYI72anXCSAY6kw",
      "include_colab_link": true
    },
    "kernelspec": {
      "name": "python3",
      "display_name": "Python 3"
    },
    "language_info": {
      "name": "python"
    }
  },
  "cells": [
    {
      "cell_type": "markdown",
      "metadata": {
        "id": "view-in-github",
        "colab_type": "text"
      },
      "source": [
        "<a href=\"https://colab.research.google.com/github/DrFrank25/Syndecan_4-Ag73/blob/main/Normal_Mode_Analysis.ipynb\" target=\"_parent\"><img src=\"https://colab.research.google.com/assets/colab-badge.svg\" alt=\"Open In Colab\"/></a>"
      ]
    },
    {
      "cell_type": "markdown",
      "source": [
        "**Normal Mode Analysis (NMA)**"
      ],
      "metadata": {
        "id": "xbY_PwqIw-1t"
      }
    },
    {
      "cell_type": "code",
      "source": [
        "# ============================================\n",
        "# MD -> Representative PDB -> Normal Mode Analysis (ANM) Pipeline\n",
        "# ============================================\n",
        "# Steps:\n",
        "#   1) Upload MD simulation outputs (.tpr + .xtc) for each replicate\n",
        "#   2) Generate representative PDBs containing only Cα atoms:\n",
        "#        - Option A: Average structure (last FRACTION_EQUIL part of trajectory)\n",
        "#        - Option B: Snapshot of the last frame\n",
        "#   3) Perform ANM (ProDy) on each PDB\n",
        "#   4) Save & download:\n",
        "#        - High-res (1200 DPI) plots: Scree + Collectivity\n",
        "#        - CSV file of eigenvalues\n",
        "# ============================================"
      ],
      "metadata": {
        "id": "QnIU0tT41Qz1"
      },
      "execution_count": null,
      "outputs": []
    },
    {
      "cell_type": "code",
      "execution_count": null,
      "metadata": {
        "id": "aT6Dkw2yw90O"
      },
      "outputs": [],
      "source": [
        "# --- Install matplotlib ---\n",
        "!pip -q install MDAnalysis prody tqdm biopython pandas\n"
      ]
    },
    {
      "cell_type": "code",
      "source": [
        "# --- Import libraries ---\n",
        "import os\n",
        "import numpy as np\n",
        "import matplotlib.pyplot as plt\n",
        "import pandas as pd\n",
        "from tqdm import tqdm\n",
        "from google.colab import files\n",
        "\n",
        "import MDAnalysis as mda\n",
        "from MDAnalysis.analysis import align\n",
        "from prody import parsePDB, ANM, calcCollectivity"
      ],
      "metadata": {
        "id": "w5Z-G3CXxODS"
      },
      "execution_count": 1,
      "outputs": []
    },
    {
      "cell_type": "code",
      "source": [
        "# ---------- Parameters ----------\n",
        "USE_AVERAGE       = True     # True = average PDB from last fraction; False = last-frame snapshot\n",
        "FRACTION_EQUIL    = 0.20     # Fraction of trajectory used for averaging\n",
        "N_MODES            = 20      # Number of ANM modes to compute\n",
        "DPI_SAVE           = 1200    # Resolution for figures\n",
        "CA_SELECTION       = \"protein and name CA\"\n",
        "CSV_OUTPUT         = \"ANM_results.csv\""
      ],
      "metadata": {
        "id": "CuxNn7AdxaCd"
      },
      "execution_count": null,
      "outputs": []
    },
    {
      "cell_type": "code",
      "source": [
        "# ---------- Upload files ----------\n",
        "print(\"Upload .tpr and .xtc pairs for each replicate:\")\n",
        "uploaded = files.upload()\n",
        "fnames = sorted(uploaded.keys())\n",
        "print(\"Uploaded files:\", fnames)\n",
        "\n",
        "tpr_files = sorted([f for f in fnames if f.lower().endswith(\".tpr\")])\n",
        "xtc_files = sorted([f for f in fnames if f.lower().endswith(\".xtc\")])\n",
        "\n",
        "if len(tpr_files) == 0 or len(xtc_files) == 0:\n",
        "    raise SystemExit(\"At least one (.tpr + .xtc) pair is required.\")\n",
        "\n",
        "n_reps = min(len(tpr_files), len(xtc_files))\n",
        "pairs = list(zip(tpr_files[:n_reps], xtc_files[:n_reps]))\n",
        "\n",
        "print(f\"\\nDetected {n_reps} replicate(s):\")\n",
        "for i, (tpr, xtc) in enumerate(pairs, start=1):\n",
        "    print(f\"  Rep {i}: {tpr} + {xtc}\")"
      ],
      "metadata": {
        "id": "cxTDPsNnxbm7"
      },
      "execution_count": null,
      "outputs": []
    },
    {
      "cell_type": "code",
      "source": [
        "# ---------- Helper functions ----------\n",
        "def write_CA_snapshot(universe, outfile_ca_pdb):\n",
        "    \"\"\"Write last-frame Cα snapshot as PDB.\"\"\"\n",
        "    ca = universe.select_atoms(CA_SELECTION)\n",
        "    universe.trajectory[-1]\n",
        "    ca.write(outfile_ca_pdb)\n",
        "\n",
        "def write_CA_average(universe, outfile_ca_pdb, frac=0.2):\n",
        "    \"\"\"Align trajectory, compute average Cα structure of last fraction, save as PDB.\"\"\"\n",
        "    align.AlignTraj(universe, universe, select=CA_SELECTION, in_memory=True).run()\n",
        "    ca = universe.select_atoms(CA_SELECTION)\n",
        "\n",
        "    n_frames = len(universe.trajectory)\n",
        "    start = int((1.0 - frac) * n_frames)\n",
        "\n",
        "    coords_sum, count = None, 0\n",
        "    for ts in universe.trajectory[start:]:\n",
        "        xyz = ca.positions.copy()\n",
        "        coords_sum = xyz if coords_sum is None else coords_sum + xyz\n",
        "        count += 1\n",
        "\n",
        "    avg_coords = coords_sum / max(count, 1)\n",
        "\n",
        "\n",
        "    # Save average Cα structure using ProDy\n",
        "    tmp_name = \"_tmp_ca_snapshot.pdb\"\n",
        "    ca.write(tmp_name)\n",
        "    strc = parsePDB(tmp_name)\n",
        "    calphas = strc.select('protein and name CA')\n",
        "    calphas.setCoords(avg_coords)\n",
        "    calphas.writePDB(outfile_ca_pdb)\n",
        "    os.remove(tmp_name)\n",
        "\n",
        "def run_anm_on_ca_pdb(ca_pdb_path, tag, n_modes=20, dpi=1200):\n",
        "    \"\"\"Run ANM and generate scree + collectivity plots.\"\"\"\n",
        "    structure = parsePDB(ca_pdb_path)\n",
        "    calphas = structure.select('protein and name CA')\n",
        "    if calphas is None or calphas.numAtoms() < 3:\n",
        "        raise RuntimeError(f\"Invalid Cα selection in {ca_pdb_path}\")\n",
        "\n",
        "    anm = ANM(f\"ANM_{tag}\")\n",
        "    anm.buildHessian(calphas)\n",
        "    anm.calcModes(n_modes=n_modes)\n",
        "    eigvals = anm.getEigvals()\n",
        "\n",
        "    # Scree plot\n",
        "    plt.figure(figsize=(7,5))\n",
        "    plt.plot(range(1, len(eigvals)+1), eigvals, \"o-\", linewidth=1.8)\n",
        "    plt.xlabel(\"Mode Number\", fontsize=12)\n",
        "    plt.ylabel(\"Eigenvalue (variance-like)\", fontsize=12)\n",
        "    plt.title(f\"ANM Scree Plot - {tag}\", fontsize=13)\n",
        "    plt.grid(True, alpha=0.4)\n",
        "    plt.tight_layout()\n",
        "    scree_name = f\"ANM_scree_{tag}.png\"\n",
        "    plt.savefig(scree_name, dpi=dpi, bbox_inches='tight')\n",
        "    plt.close()\n",
        "\n",
        "    # Collectivity\n",
        "    m = min(10, len(anm))\n",
        "    collectivities = calcCollectivity(anm[:m], calphas)\n",
        "    plt.figure(figsize=(7,5))\n",
        "    plt.bar(range(1, m+1), collectivities)\n",
        "    plt.xlabel(\"Mode\", fontsize=12)\n",
        "    plt.ylabel(\"Collectivity\", fontsize=12)\n",
        "    plt.title(f\"ANM Collectivity (first {m} modes) - {tag}\", fontsize=13)\n",
        "    plt.tight_layout()\n",
        "    coll_name = f\"ANM_collectivity_{tag}.png\"\n",
        "    plt.savefig(coll_name, dpi=dpi, bbox_inches='tight')\n",
        "    plt.close()\n",
        "\n",
        "    return eigvals, scree_name, coll_name"
      ],
      "metadata": {
        "id": "dx0wKoyGxbwu"
      },
      "execution_count": null,
      "outputs": []
    },
    {
      "cell_type": "code",
      "source": [
        "# ---------- Main loop ----------\n",
        "results = []\n",
        "for i, (tpr, xtc) in enumerate(pairs, start=1):\n",
        "    tag = f\"rep{i}\"\n",
        "    print(f\"\\n==== Processing {tag}: {tpr} + {xtc} ====\")\n",
        "\n",
        "    u = mda.Universe(tpr, xtc)\n",
        "\n",
        "    ca_pdb = f\"CA_{'avg' if USE_AVERAGE else 'last'}_{tag}.pdb\"\n",
        "    if USE_AVERAGE:\n",
        "        print(f\"Generating average Cα-PDB (last {int(FRACTION_EQUIL*100)}%) -> {ca_pdb}\")\n",
        "        write_CA_average(u, ca_pdb, frac=FRACTION_EQUIL)\n",
        "    else:\n",
        "        print(f\"Generating last-frame Cα-PDB -> {ca_pdb}\")\n",
        "        write_CA_snapshot(u, ca_pdb)\n",
        "\n",
        "    eigvals, scree_png, coll_png = run_anm_on_ca_pdb(\n",
        "        ca_pdb, tag=f\"{tag}_{'avg' if USE_AVERAGE else 'last'}\",\n",
        "        n_modes=N_MODES, dpi=DPI_SAVE\n",
        "    )\n",
        "\n",
        "    results.append({\n",
        "        \"replicate\": tag,\n",
        "        \"pdb\": ca_pdb,\n",
        "        \"eigenvalues\": eigvals.tolist(),\n",
        "        \"scree_plot\": scree_png,\n",
        "        \"collectivity_plot\": coll_png\n",
        "    })\n"
      ],
      "metadata": {
        "id": "9yE49TWRxb3n"
      },
      "execution_count": null,
      "outputs": []
    },
    {
      "cell_type": "code",
      "source": [
        "# ---------- Save CSV with eigenvalues ----------\n",
        "df = pd.DataFrame({\n",
        "    \"replicate\": r[\"replicate\"],\n",
        "    **{f\"eig_{j+1}\": val for j, val in enumerate(r[\"eigenvalues\"])}\n",
        "} for r in results)\n",
        "\n",
        "df.to_csv(CSV_OUTPUT, index=False)\n",
        "print(f\"\\nEigenvalues saved to {CSV_OUTPUT}\")"
      ],
      "metadata": {
        "id": "lBkQpdL8xxbm"
      },
      "execution_count": null,
      "outputs": []
    },
    {
      "cell_type": "code",
      "source": [
        "# ---------- Auto-download ----------\n",
        "files.download(CSV_OUTPUT)\n",
        "for r in results:\n",
        "    files.download(r[\"scree_plot\"])\n",
        "    files.download(r[\"collectivity_plot\"])\n",
        "\n",
        "print(\"\\nPipeline completed successfully!\")"
      ],
      "metadata": {
        "id": "LN9S3wVXxxnS"
      },
      "execution_count": null,
      "outputs": []
    }
  ]
}