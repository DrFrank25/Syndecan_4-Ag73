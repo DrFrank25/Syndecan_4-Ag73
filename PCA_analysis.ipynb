{
  "nbformat": 4,
  "nbformat_minor": 0,
  "metadata": {
    "colab": {
      "provenance": [],
      "authorship_tag": "ABX9TyNoU0lbme2xDgIHJyCUfBeJ",
      "include_colab_link": true
    },
    "kernelspec": {
      "name": "python3",
      "display_name": "Python 3"
    },
    "language_info": {
      "name": "python"
    }
  },
  "cells": [
    {
      "cell_type": "markdown",
      "metadata": {
        "id": "view-in-github",
        "colab_type": "text"
      },
      "source": [
        "<a href=\"https://colab.research.google.com/github/DrFrank25/Syndecan_4-Ag73/blob/main/PCA_analysis.ipynb\" target=\"_parent\"><img src=\"https://colab.research.google.com/assets/colab-badge.svg\" alt=\"Open In Colab\"/></a>"
      ]
    },
    {
      "cell_type": "markdown",
      "source": [
        "**Script to PCA analysis with Python**\n"
      ],
      "metadata": {
        "id": "BSaQvm26tfWB"
      }
    },
    {
      "cell_type": "code",
      "source": [
        "# --- Intall MDAnalysis\n",
        "!pip install MDAnalysis tqdm"
      ],
      "metadata": {
        "colab": {
          "base_uri": "https://localhost:8080/"
        },
        "id": "KR96D6COwPfb",
        "outputId": "7d4a00ac-e90f-4c58-b3f7-d4972991a4a5"
      },
      "execution_count": 1,
      "outputs": [
        {
          "output_type": "stream",
          "name": "stdout",
          "text": [
            "Collecting MDAnalysis\n",
            "  Downloading mdanalysis-2.9.0-cp312-cp312-manylinux_2_17_x86_64.manylinux2014_x86_64.whl.metadata (108 kB)\n",
            "\u001b[?25l     \u001b[90m━━━━━━━━━━━━━━━━━━━━━━━━━━━━━━━━━━━━━━━━\u001b[0m \u001b[32m0.0/108.7 kB\u001b[0m \u001b[31m?\u001b[0m eta \u001b[36m-:--:--\u001b[0m\r\u001b[2K     \u001b[90m━━━━━━━━━━━━━━━━━━━━━━━━━━━━━━━━━━━━━━━\u001b[0m \u001b[32m108.7/108.7 kB\u001b[0m \u001b[31m3.1 MB/s\u001b[0m eta \u001b[36m0:00:00\u001b[0m\n",
            "\u001b[?25hRequirement already satisfied: tqdm in /usr/local/lib/python3.12/dist-packages (4.67.1)\n",
            "Requirement already satisfied: numpy>=1.23.2 in /usr/local/lib/python3.12/dist-packages (from MDAnalysis) (2.0.2)\n",
            "Collecting GridDataFormats>=0.4.0 (from MDAnalysis)\n",
            "  Downloading GridDataFormats-1.0.2-py3-none-any.whl.metadata (4.9 kB)\n",
            "Collecting mmtf-python>=1.0.0 (from MDAnalysis)\n",
            "  Downloading mmtf_python-1.1.3-py2.py3-none-any.whl.metadata (1.2 kB)\n",
            "Requirement already satisfied: joblib>=0.12 in /usr/local/lib/python3.12/dist-packages (from MDAnalysis) (1.5.1)\n",
            "Requirement already satisfied: scipy>=1.5.0 in /usr/local/lib/python3.12/dist-packages (from MDAnalysis) (1.16.1)\n",
            "Requirement already satisfied: matplotlib>=1.5.1 in /usr/local/lib/python3.12/dist-packages (from MDAnalysis) (3.10.0)\n",
            "Requirement already satisfied: threadpoolctl in /usr/local/lib/python3.12/dist-packages (from MDAnalysis) (3.6.0)\n",
            "Requirement already satisfied: packaging in /usr/local/lib/python3.12/dist-packages (from MDAnalysis) (25.0)\n",
            "Requirement already satisfied: filelock in /usr/local/lib/python3.12/dist-packages (from MDAnalysis) (3.19.1)\n",
            "Collecting mda-xdrlib (from MDAnalysis)\n",
            "  Downloading mda_xdrlib-0.2.0-py3-none-any.whl.metadata (19 kB)\n",
            "Collecting mrcfile (from GridDataFormats>=0.4.0->MDAnalysis)\n",
            "  Downloading mrcfile-1.5.4-py2.py3-none-any.whl.metadata (7.0 kB)\n",
            "Requirement already satisfied: contourpy>=1.0.1 in /usr/local/lib/python3.12/dist-packages (from matplotlib>=1.5.1->MDAnalysis) (1.3.3)\n",
            "Requirement already satisfied: cycler>=0.10 in /usr/local/lib/python3.12/dist-packages (from matplotlib>=1.5.1->MDAnalysis) (0.12.1)\n",
            "Requirement already satisfied: fonttools>=4.22.0 in /usr/local/lib/python3.12/dist-packages (from matplotlib>=1.5.1->MDAnalysis) (4.59.1)\n",
            "Requirement already satisfied: kiwisolver>=1.3.1 in /usr/local/lib/python3.12/dist-packages (from matplotlib>=1.5.1->MDAnalysis) (1.4.9)\n",
            "Requirement already satisfied: pillow>=8 in /usr/local/lib/python3.12/dist-packages (from matplotlib>=1.5.1->MDAnalysis) (11.3.0)\n",
            "Requirement already satisfied: pyparsing>=2.3.1 in /usr/local/lib/python3.12/dist-packages (from matplotlib>=1.5.1->MDAnalysis) (3.2.3)\n",
            "Requirement already satisfied: python-dateutil>=2.7 in /usr/local/lib/python3.12/dist-packages (from matplotlib>=1.5.1->MDAnalysis) (2.9.0.post0)\n",
            "Requirement already satisfied: msgpack>=1.0.0 in /usr/local/lib/python3.12/dist-packages (from mmtf-python>=1.0.0->MDAnalysis) (1.1.1)\n",
            "Requirement already satisfied: six>=1.5 in /usr/local/lib/python3.12/dist-packages (from python-dateutil>=2.7->matplotlib>=1.5.1->MDAnalysis) (1.17.0)\n",
            "Downloading mdanalysis-2.9.0-cp312-cp312-manylinux_2_17_x86_64.manylinux2014_x86_64.whl (12.9 MB)\n",
            "\u001b[2K   \u001b[90m━━━━━━━━━━━━━━━━━━━━━━━━━━━━━━━━━━━━━━━━\u001b[0m \u001b[32m12.9/12.9 MB\u001b[0m \u001b[31m63.7 MB/s\u001b[0m eta \u001b[36m0:00:00\u001b[0m\n",
            "\u001b[?25hDownloading GridDataFormats-1.0.2-py3-none-any.whl (2.1 MB)\n",
            "\u001b[2K   \u001b[90m━━━━━━━━━━━━━━━━━━━━━━━━━━━━━━━━━━━━━━━━\u001b[0m \u001b[32m2.1/2.1 MB\u001b[0m \u001b[31m84.2 MB/s\u001b[0m eta \u001b[36m0:00:00\u001b[0m\n",
            "\u001b[?25hDownloading mmtf_python-1.1.3-py2.py3-none-any.whl (25 kB)\n",
            "Downloading mda_xdrlib-0.2.0-py3-none-any.whl (14 kB)\n",
            "Downloading mrcfile-1.5.4-py2.py3-none-any.whl (45 kB)\n",
            "\u001b[2K   \u001b[90m━━━━━━━━━━━━━━━━━━━━━━━━━━━━━━━━━━━━━━━━\u001b[0m \u001b[32m45.0/45.0 kB\u001b[0m \u001b[31m4.2 MB/s\u001b[0m eta \u001b[36m0:00:00\u001b[0m\n",
            "\u001b[?25hInstalling collected packages: mrcfile, mmtf-python, mda-xdrlib, GridDataFormats, MDAnalysis\n",
            "Successfully installed GridDataFormats-1.0.2 MDAnalysis-2.9.0 mda-xdrlib-0.2.0 mmtf-python-1.1.3 mrcfile-1.5.4\n"
          ]
        }
      ]
    },
    {
      "cell_type": "code",
      "execution_count": null,
      "metadata": {
        "id": "MNNYwrH4tcqY"
      },
      "outputs": [],
      "source": [
        "# --- Import libraries ---\n",
        "import numpy as np\n",
        "import matplotlib.pyplot as plt\n",
        "from google.colab import files\n",
        "from tqdm import tqdm\n",
        "import MDAnalysis as mda\n",
        "from MDAnalysis.analysis import align"
      ]
    },
    {
      "cell_type": "code",
      "source": [
        "# === Upload GROMACS files ===\n",
        "print(\"Please upload md.tpr and traj.xtc\")\n",
        "uploaded = files.upload()"
      ],
      "metadata": {
        "id": "HtCYlX49tyaM"
      },
      "execution_count": null,
      "outputs": []
    },
    {
      "cell_type": "code",
      "source": [
        "# Load trajectory (must have md.tpr and traj.xtc)\n",
        "u = mda.Universe(\"md.tpr\", \"traj.xtc\")"
      ],
      "metadata": {
        "id": "wjnCEFz3tycn"
      },
      "execution_count": null,
      "outputs": []
    },
    {
      "cell_type": "code",
      "source": [
        "# Select C-alpha atoms\n",
        "ca = u.select_atoms(\"protein and name CA\")"
      ],
      "metadata": {
        "id": "8sGpw9ZDtyfC"
      },
      "execution_count": null,
      "outputs": []
    },
    {
      "cell_type": "code",
      "source": [
        "# Align trajectory to the first frame to remove overall translation/rotation\n",
        "ref = u.select_atoms(\"protein and name CA\")\n",
        "aligner = align.AlignTraj(u, ref, select=\"protein and name CA\", in_memory=True).run()"
      ],
      "metadata": {
        "id": "gh3_Ofg3ty7b"
      },
      "execution_count": null,
      "outputs": []
    },
    {
      "cell_type": "code",
      "source": [
        "# ===== Build coordinate matrix =====\n",
        "print(\"Building coordinate matrix...\")\n",
        "\n",
        "coords = []\n",
        "for ts in tqdm(u.trajectory, desc=\"Processing frames\"):\n",
        "    coords.append(protein.positions.flatten())\n",
        "\n",
        "X = np.array(coords)\n",
        "X -= X.mean(axis=0)  # mean-center the data"
      ],
      "metadata": {
        "id": "TQ0o7TuuuQI2"
      },
      "execution_count": null,
      "outputs": []
    },
    {
      "cell_type": "code",
      "source": [
        "# ===== Covariance matrix =====\n",
        "print(\"Computing covariance matrix...\")\n",
        "cov = np.cov(X.T)"
      ],
      "metadata": {
        "id": "685ycm5suQe0"
      },
      "execution_count": null,
      "outputs": []
    },
    {
      "cell_type": "code",
      "source": [
        "# === Eigen-decomposition ===\n",
        "eigvals, eigvecs = np.linalg.eigh(cov)"
      ],
      "metadata": {
        "id": "lkgrtNhduXc7"
      },
      "execution_count": null,
      "outputs": []
    },
    {
      "cell_type": "code",
      "source": [
        "# Sort by descending eigenvalue\n",
        "idx = np.argsort(eigvals)[::-1]\n",
        "eigvals = eigvals[idx]\n",
        "eigvecs = eigvecs[:, idx]"
      ],
      "metadata": {
        "id": "ls_fQOFcuXhc"
      },
      "execution_count": null,
      "outputs": []
    },
    {
      "cell_type": "code",
      "source": [
        "# ===== Projections on PC1 and PC2 =====\n",
        "proj = np.dot(X, eigvecs[:, :2])\n"
      ],
      "metadata": {
        "id": "AnpszAjtuXmn"
      },
      "execution_count": null,
      "outputs": []
    },
    {
      "cell_type": "code",
      "source": [
        "# ===== Plotting =====\n",
        "print(\"Generating plots...\")\n",
        "\n",
        "# Scree plot\n",
        "plt.figure(figsize=(8, 5))\n",
        "plt.plot(np.arange(1, 11), eigvals[:10], \"o-\", lw=2)\n",
        "plt.xlabel(\"Principal Component\", fontsize=12)\n",
        "plt.ylabel(\"Eigenvalue (variance)\", fontsize=12)\n",
        "plt.title(\"Scree Plot of PCA\", fontsize=14)\n",
        "plt.grid(True)\n",
        "plt.tight_layout()\n",
        "plt.savefig(\"PCA_scree.png\", dpi=1200, bbox_inches=\"tight\")\n",
        "plt.close()\n",
        "\n",
        "# PC1 vs PC2 plot\n",
        "plt.figure(figsize=(7, 6))\n",
        "plt.scatter(proj[:, 0], proj[:, 1], alpha=0.5, s=10, c=np.arange(len(proj)))\n",
        "plt.xlabel(\"PC1\", fontsize=12)\n",
        "plt.ylabel(\"PC2\", fontsize=12)\n",
        "plt.title(\"PCA Projection (PC1 vs PC2)\", fontsize=14)\n",
        "plt.colorbar(label=\"Frame Index\")\n",
        "plt.grid(True)\n",
        "plt.tight_layout()\n",
        "plt.savefig(\"PCA_projection.png\", dpi=1200, bbox_inches=\"tight\")\n",
        "plt.close()\n"
      ],
      "metadata": {
        "id": "nUuluN7ruXqV"
      },
      "execution_count": null,
      "outputs": []
    },
    {
      "cell_type": "code",
      "source": [
        " ===== Download Figures =====\n",
        "print(\"Saving and downloading figures...\")\n",
        "files.download(\"PCA_scree.png\")\n",
        "files.download(\"PCA_projection.png\")\n",
        "\n",
        "print(\"PCA analysis completed!\")"
      ],
      "metadata": {
        "id": "ddj6fhQ6uo3y"
      },
      "execution_count": null,
      "outputs": []
    }
  ]
}