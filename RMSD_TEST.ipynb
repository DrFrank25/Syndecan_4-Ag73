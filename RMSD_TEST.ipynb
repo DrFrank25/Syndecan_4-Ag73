{
  "nbformat": 4,
  "nbformat_minor": 0,
  "metadata": {
    "colab": {
      "provenance": [],
      "authorship_tag": "ABX9TyP1zF7zBL03t9qMWjy2Vm5V",
      "include_colab_link": true
    },
    "kernelspec": {
      "name": "python3",
      "display_name": "Python 3"
    },
    "language_info": {
      "name": "python"
    }
  },
  "cells": [
    {
      "cell_type": "markdown",
      "metadata": {
        "id": "view-in-github",
        "colab_type": "text"
      },
      "source": [
        "<a href=\"https://colab.research.google.com/github/DrFrank25/Syndecan_4-Ag73/blob/main/RMSD_TEST.ipynb\" target=\"_parent\"><img src=\"https://colab.research.google.com/assets/colab-badge.svg\" alt=\"Open In Colab\"/></a>"
      ]
    },
    {
      "cell_type": "markdown",
      "source": [
        "**Script RMSD with Savitzky–Golay smoothing (using GROMACS outputs)**"
      ],
      "metadata": {
        "id": "iqiKRx9Z4plp"
      }
    },
    {
      "cell_type": "code",
      "source": [
        "# ================================================\n",
        "# MDAnalysis Analysis Script\n",
        "# RMSD + RMSF + H-Bonds + Radius of Gyration + SASA\n",
        "# With Savitzky–Golay smoothing\n",
        "# ================================================"
      ],
      "metadata": {
        "id": "yVKo136q7L8j"
      },
      "execution_count": null,
      "outputs": []
    },
    {
      "cell_type": "code",
      "source": [
        "# --- Install MDAnalysis ---\n",
        "!pip install MDAnalysis MDAnalysisData"
      ],
      "metadata": {
        "id": "ZS_WXBth8Uq6"
      },
      "execution_count": null,
      "outputs": []
    },
    {
      "cell_type": "code",
      "execution_count": null,
      "metadata": {
        "id": "ygZOTDKV4ids"
      },
      "outputs": [],
      "source": [
        "# --- Import libraries ---\n",
        "import numpy as np\n",
        "import matplotlib.pyplot as plt\n",
        "import pandas as pd\n",
        "from scipy.signal import savgol_filter\n",
        "import MDAnalysis as mda\n",
        "from MDAnalysis.analysis import rms, hbonds, polymer, sasa"
      ]
    },
    {
      "cell_type": "code",
      "source": [
        "# ===== Settings =====\n",
        "SMOOTH_WINDOW = 11   # maximum smoothing window size (must be odd)\n",
        "POLY_ORDER = 2       # polynomial order for Savitzky–Golay\n",
        "COLORS = ['#1f77b4', '#ff7f0e', '#2ca02c', '#d62728', '#9467bd', '#8c564b', '#e377c2']\n",
        "FIGSIZE = (11, 6)\n",
        "DPI = 1200\n",
        "# Legend names\n",
        "LEGEND_NAMES = [\"Run 1\", \"Run 2\", \"Run 3\"]\n",
        "# ====================\n"
      ],
      "metadata": {
        "id": "yG6gNjDa49Xz"
      },
      "execution_count": null,
      "outputs": []
    },
    {
      "cell_type": "code",
      "source": [
        "# === Input files (edit with your runs) ===\n",
        "# Each run must have topology (.tpr/.gro/.pdb) + trajectory (.xtc/.trr)\n",
        "runs = [\n",
        "    (\"run1.tpr\", \"run1.xtc\"),\n",
        "    (\"run2.tpr\", \"run2.xtc\"),\n",
        "    (\"run3.tpr\", \"run3.xtc\"),\n",
        "]\n",
        "\n"
      ],
      "metadata": {
        "id": "9ADvzTr449eL"
      },
      "execution_count": null,
      "outputs": []
    },
    {
      "cell_type": "code",
      "source": [
        "# --- Helper: smoothing with safe window ---\n",
        "def smooth_curve(data, window=SMOOTH_WINDOW, poly=POLY_ORDER):\n",
        "    n = len(data)\n",
        "    if n < 3:\n",
        "        return data.copy()\n",
        "    w = min(window, n)\n",
        "    if w % 2 == 0:\n",
        "        w = max(3, w - 1)\n",
        "    if w > poly:\n",
        "        return savgol_filter(data, window_length=w, polyorder=poly, mode=\"interp\")\n",
        "    return data.copy()\n"
      ],
      "metadata": {
        "id": "Lkv2q1rf7cUj"
      },
      "execution_count": null,
      "outputs": []
    },
    {
      "cell_type": "code",
      "source": [
        "# ========================\n",
        "# RMSD\n",
        "# ========================\n",
        "plt.figure(figsize=FIGSIZE)\n",
        "all_rmsd_values = []\n",
        "\n",
        "for i, (tpr, xtc) in enumerate(runs):\n",
        "    print(f\"\\n=== RMSD: {tpr} + {xtc} ===\")\n",
        "    u = mda.Universe(tpr, xtc)\n",
        "    ref = mda.Universe(tpr)\n",
        "\n",
        "    # Calculate RMSD\n",
        "    R = rms.RMSD(u, ref, select=\"protein and name CA\")\n",
        "    R.run()\n",
        "\n",
        "    time = R.results.rmsd[:, 1] / 1000.0\n",
        "    rmsd = R.results.rmsd[:, 2]\n",
        "    all_rmsd_values.extend(rmsd)\n",
        "\n",
        "    smooth = smooth_curve(rmsd)\n",
        "    mean_val, std_val = np.mean(rmsd), np.std(rmsd)\n",
        "\n",
        "    color = COLORS[i % len(COLORS)]\n",
        "    curve_name = LEGEND_NAMES[i] if i < len(LEGEND_NAMES) else f\"Run {i+1}\"\n",
        "\n",
        "    plt.plot(time, rmsd, linewidth=1.0, alpha=0.15, color=color)\n",
        "    plt.plot(time, smooth, label=f\"{curve_name}\", color=color)\n",
        "    plt.fill_between(time, smooth - std_val, smooth + std_val,\n",
        "                     alpha=0.05, color=color)\n",
        "\n",
        "    print(f\"{curve_name}: Mean = {mean_val:.3f} nm | Std = {std_val:.3f} nm\")\n",
        "\n",
        "# Global stats\n",
        "all_rmsd_values = np.array(all_rmsd_values)\n",
        "print(\"\\n=== RMSD Global Statistics ===\")\n",
        "print(f\"Mean = {np.mean(all_rmsd_values):.4f} nm | Std = {np.std(all_rmsd_values):.4f} nm\")\n",
        "\n",
        "plt.xlabel(\"Time (ns)\")\n",
        "plt.ylabel(\"RMSD (nm)\")\n",
        "plt.xlim(time.min(), time.max())\n",
        "plt.ylim(0.0, 1.5)\n",
        "plt.legend()\n",
        "plt.tight_layout()\n",
        "plt.savefig(\"rmsd.png\", dpi=DPI, bbox_inches=\"tight\")\n",
        "plt.close()\n"
      ],
      "metadata": {
        "id": "7OZ7XRjO49gh"
      },
      "execution_count": null,
      "outputs": []
    },
    {
      "cell_type": "code",
      "source": [
        "# ========================\n",
        "# RMSF\n",
        "# ========================\n",
        "for i, (tpr, xtc) in enumerate(runs):\n",
        "    print(f\"\\n=== RMSF: {tpr} + {xtc} ===\")\n",
        "    u = mda.Universe(tpr, xtc)\n",
        "    protein = u.select_atoms(\"protein and name CA\")\n",
        "\n",
        "    rmsf = rms.RMSF(protein).run()\n",
        "    resids = protein.resids\n",
        "    values = rmsf.results.rmsf\n",
        "\n",
        "    plt.figure(figsize=FIGSIZE)\n",
        "    plt.plot(resids, values, label=LEGEND_NAMES[i],\n",
        "             color=COLORS[i % len(COLORS)])\n",
        "    plt.xlabel(\"Residue ID\")\n",
        "    plt.ylabel(\"RMSF (nm)\")\n",
        "    plt.legend()\n",
        "    plt.tight_layout()\n",
        "    plt.savefig(f\"rmsf_run{i+1}.png\", dpi=DPI, bbox_inches=\"tight\")\n",
        "    plt.close()\n"
      ],
      "metadata": {
        "id": "nhSOKtS749io"
      },
      "execution_count": null,
      "outputs": []
    },
    {
      "cell_type": "code",
      "source": [
        "# ========================\n",
        "# HBonds\n",
        "# ========================\n",
        "for i, (tpr, xtc) in enumerate(runs):\n",
        "    print(f\"\\n=== HBonds: {tpr} + {xtc} ===\")\n",
        "    u = mda.Universe(tpr, xtc)\n",
        "    h = hbonds.HydrogenBondAnalysis(u, selection1=\"protein\", selection2=\"protein\")\n",
        "    h.run()\n",
        "\n",
        "    times = h.results.times / 1000.0\n",
        "    counts = h.results.count_by_time\n",
        "\n",
        "    smooth = smooth_curve(counts)\n",
        "\n",
        "    plt.figure(figsize=FIGSIZE)\n",
        "    plt.plot(times, counts, alpha=0.15, color=COLORS[i % len(COLORS)])\n",
        "    plt.plot(times, smooth, label=LEGEND_NAMES[i],\n",
        "             color=COLORS[i % len(COLORS)])\n",
        "    plt.xlabel(\"Time (ns)\")\n",
        "    plt.ylabel(\"# H-Bonds\")\n",
        "    plt.legend()\n",
        "    plt.tight_layout()\n",
        "    plt.savefig(f\"hbonds_run{i+1}.png\", dpi=DPI, bbox_inches=\"tight\")\n",
        "    plt.close()\n"
      ],
      "metadata": {
        "id": "tHqRedeW49lt"
      },
      "execution_count": null,
      "outputs": []
    },
    {
      "cell_type": "code",
      "source": [
        "# ========================\n",
        "# Radius of Gyration\n",
        "# ========================\n",
        "for i, (tpr, xtc) in enumerate(runs):\n",
        "    print(f\"\\n=== Radius of Gyration: {tpr} + {xtc} ===\")\n",
        "    u = mda.Universe(tpr, xtc)\n",
        "    protein = u.select_atoms(\"protein\")\n",
        "\n",
        "    Rg = polymer.RadiusGyration(protein).run()\n",
        "    times = Rg.results.times / 1000.0\n",
        "    rg = Rg.results.rg\n",
        "\n",
        "    smooth = smooth_curve(rg)\n",
        "\n",
        "    plt.figure(figsize=FIGSIZE)\n",
        "    plt.plot(times, rg, alpha=0.15, color=COLORS[i % len(COLORS)])\n",
        "    plt.plot(times, smooth, label=LEGEND_NAMES[i],\n",
        "             color=COLORS[i % len(COLORS)])\n",
        "    plt.xlabel(\"Time (ns)\")\n",
        "    plt.ylabel(\"Rg (nm)\")\n",
        "    plt.legend()\n",
        "    plt.tight_layout()\n",
        "    plt.savefig(f\"rg_run{i+1}.png\", dpi=DPI, bbox_inches=\"tight\")\n",
        "    plt.close()\n",
        "\n"
      ],
      "metadata": {
        "id": "V51dcwPB49on"
      },
      "execution_count": null,
      "outputs": []
    },
    {
      "cell_type": "code",
      "source": [
        "# ========================\n",
        "# SASA\n",
        "# ========================\n",
        "for i, (tpr, xtc) in enumerate(runs):\n",
        "    print(f\"\\n=== SASA: {tpr} + {xtc} ===\")\n",
        "    u = mda.Universe(tpr, xtc)\n",
        "    protein = u.select_atoms(\"protein\")\n",
        "\n",
        "    s = sasa.SASA(protein, probe_radius=0.14)\n",
        "    s.run()\n",
        "\n",
        "    sasa_values = s.results.sasa\n",
        "    times = np.arange(len(sasa_values)) * u.trajectory.dt / 1000.0\n",
        "\n",
        "    smooth = smooth_curve(sasa_values)\n",
        "\n",
        "    plt.figure(figsize=FIGSIZE)\n",
        "    plt.plot(times, sasa_values, alpha=0.15, color=COLORS[i % len(COLORS)])\n",
        "    plt.plot(times, smooth, label=LEGEND_NAMES[i],\n",
        "             color=COLORS[i % len(COLORS)])\n",
        "    plt.xlabel(\"Time (ns)\")\n",
        "    plt.ylabel(\"SASA (nm²)\")\n",
        "    plt.legend()\n",
        "    plt.tight_layout()\n",
        "    plt.savefig(f\"sasa_run{i+1}.png\", dpi=DPI, bbox_inches=\"tight\")\n",
        "    plt.close()"
      ],
      "metadata": {
        "id": "sZTokEiz49qu"
      },
      "execution_count": null,
      "outputs": []
    },
    {
      "cell_type": "code",
      "source": [
        "# --- Import image files ---\n",
        "from google.colab import files\n",
        "\n",
        "files.download(\"rmsd.png\")\n",
        "files.download(\"rmsf_run1.png\")\n",
        "files.download(\"hbonds_run1.png\")\n",
        "files.download(\"rg_run1.png\")\n",
        "files.download(\"sasa_run1.png\")"
      ],
      "metadata": {
        "id": "NnGjb9Yn4957"
      },
      "execution_count": null,
      "outputs": []
    }
  ]
}