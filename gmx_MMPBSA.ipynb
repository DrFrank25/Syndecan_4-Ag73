{
  "nbformat": 4,
  "nbformat_minor": 0,
  "metadata": {
    "colab": {
      "provenance": [],
      "authorship_tag": "ABX9TyM54Tk/HUxZNywWOI6fQ2R0",
      "include_colab_link": true
    },
    "kernelspec": {
      "name": "python3",
      "display_name": "Python 3"
    },
    "language_info": {
      "name": "python"
    }
  },
  "cells": [
    {
      "cell_type": "markdown",
      "metadata": {
        "id": "view-in-github",
        "colab_type": "text"
      },
      "source": [
        "<a href=\"https://colab.research.google.com/github/DrFrank25/Syndecan_4-Ag73/blob/main/gmx_MMPBSA.ipynb\" target=\"_parent\"><img src=\"https://colab.research.google.com/assets/colab-badge.svg\" alt=\"Open In Colab\"/></a>"
      ]
    },
    {
      "cell_type": "markdown",
      "source": [
        "**Binding Free Energy Calculation (MM-PBSA + Entropy)**"
      ],
      "metadata": {
        "id": "t0ibjtuO-gY_"
      }
    },
    {
      "cell_type": "code",
      "execution_count": null,
      "metadata": {
        "id": "c2lcaQ4L-XrI"
      },
      "outputs": [],
      "source": [
        "# ==========================================\n",
        "# 🚀 Binding Free Energy Calculation (MM-PBSA + Entropy) in Colab\n",
        "# ==========================================\n",
        "# -- Import Libraris ----\n",
        "import os shutil, subprocess, sys, json, mat\n",
        "import subprocess\n",
        "import pandas as pd\n",
        "import matplotlib.pyplot as plt\n",
        "from google.colab import files"
      ]
    },
    {
      "cell_type": "code",
      "source": [
        "# -----------------------------\n",
        "# 0) Bootstrap micromamba + install deps (Colab-safe)\n",
        "# -----------------------------\n",
        "def run(cmd, **kw):\n",
        "    print(f\"\\n$ {cmd}\")\n",
        "    cp = subprocess.run(cmd, shell=True, check=True, text=True, **kw)\n",
        "    return cp\n",
        "\n",
        "if not shutil.which(\"micromamba\"):\n",
        "    run(\"wget -qO- https://micro.mamba.pm/api/micromamba/linux-64/latest | tar -xvj bin/micromamba\")\n",
        "    os.environ[\"MAMBA_ROOT_PREFIX\"] = \"/root/micromamba\"\n",
        "    run(\"./bin/micromamba shell init -s bash -p /root/micromamba\")\n",
        "    # Activate shell for this process\n",
        "    os.environ[\"PATH\"] = \"/root/micromamba/bin:\" + os.environ[\"PATH\"]\n",
        "\n",
        "# Create env and install\n",
        "run(\"micromamba create -y -n gmx -c conda-forge gromacs gmx-mmpbsa python=3.11\")\n",
        "# Activate env for this process\n",
        "os.environ[\"PATH\"] = \"/root/micromamba/envs/gmx/bin:\" + os.environ[\"PATH\"]\n",
        "\n",
        "# Detect gmx_MMPBSA vs g_mmpbsa\n",
        "MMPBSA_BIN = \"gmx_MMPBSA\" if shutil.which(\"gmx_MMPBSA\") else (\"g_mmpbsa\" if shutil.which(\"g_mmpbsa\") else None)\n",
        "if MMPBSA_BIN is None:\n",
        "    raise SystemExit(\"Could not find gmx_MMPBSA/g_mmpbsa after install. Abort.\")\n"
      ],
      "metadata": {
        "id": "a4W6xbxS-t9s"
      },
      "execution_count": null,
      "outputs": []
    },
    {
      "cell_type": "code",
      "source": [
        "# -----------------------------\n",
        "# 1) Upload inputs\n",
        "# -----------------------------\n",
        "from google.colab import files\n",
        "print(\"📂 Please upload (exact names):\")\n",
        "print(\"  Rep1: topol1.tpr, traj1.xtc, index1.ndx, mmpbsa1.in\")\n",
        "print(\"  Rep2: topol2.tpr, traj2.xtc, index2.ndx, mmpbsa2.in\")\n",
        "print(\"  Rep3: topol3.tpr, traj3.xtc, index3.ndx, mmpbsa3.in\")\n",
        "uploaded = files.upload()"
      ],
      "metadata": {
        "id": "Tv6ndAzT-vO0"
      },
      "execution_count": null,
      "outputs": []
    },
    {
      "cell_type": "code",
      "source": [
        "# -----------------------------\n",
        "# 2) Config — group selections for QHA (covar/anaeig)\n",
        "#    By default, '1 1' means: group #1 for fit and #1 for analysis (often 'Protein').\n",
        "#    If your index has different IDs, change below (e.g., \"echo 3 3 | ...\").\n",
        "# -----------------------------\n",
        "COVAR_GROUPS = \"1 1\"  # fit group, analysis group\n",
        "ANAEIG_GROUP = \"1\"    # analysis group\n",
        "TEMP_K = 300          # used by gmx anaeig; typically read from traj, but kept for reference\n"
      ],
      "metadata": {
        "id": "dOlDDtl9-2gJ"
      },
      "execution_count": null,
      "outputs": []
    },
    {
      "cell_type": "code",
      "source": [
        "# -----------------------------\n",
        "# 3) Helpers\n",
        "# -----------------------------\n",
        "def run_mmpbsa(rep_id, tpr, xtc, ndx, inp):\n",
        "    out_dir = f\"rep{rep_id}\"\n",
        "    os.makedirs(out_dir, exist_ok=True)\n",
        "    out_file = f\"{out_dir}/FINAL_RESULTS_MMPBSA.dat\"\n",
        "    cmd = f\"{MMPBSA_BIN} -f {xtc} -s {tpr} -n {ndx} -i {inp} -o {out_file} -nogui\"\n",
        "    run(cmd)\n",
        "\n",
        "    # Parse FINAL_RESULTS_MMPBSA.dat -> dict\n",
        "    res = {}\n",
        "    with open(out_file) as f:\n",
        "        for line in f:\n",
        "            if line.strip() and not line.startswith(\"#\"):\n",
        "                parts = line.split()\n",
        "                if len(parts) >= 2:\n",
        "                    key, val = parts[0], parts[1]\n",
        "                    try:\n",
        "                        res[key] = float(val)\n",
        "                    except:\n",
        "                        pass\n",
        "    # Normalize expected keys if package labels differ\n",
        "    # (Some builds label as 'DeltaE_vdw', 'DeltaE_el', etc.)\n",
        "    key_map = {\n",
        "        \"DeltaE_vdw\": \"DeltaE_vdw\",\n",
        "        \"E_vdw\": \"DeltaE_vdw\",\n",
        "        \"DeltaE_ele\": \"DeltaE_ele\",\n",
        "        \"E_ele\": \"DeltaE_ele\",\n",
        "        \"DeltaG_pol\": \"DeltaG_pol\",\n",
        "        \"G_polar\": \"DeltaG_pol\",\n",
        "        \"DeltaG_np\": \"DeltaG_np\",\n",
        "        \"G_nonpolar\": \"DeltaG_np\",\n",
        "        \"DeltaTOTAL\": \"DeltaTOTAL\",\n",
        "        \"TOTAL\": \"DeltaTOTAL\"\n",
        "    }\n",
        "    normalized = {}\n",
        "    for k, v in res.items():\n",
        "        normalized[key_map.get(k, k)] = v\n",
        "\n",
        "    # Compute ΔH from components if not present\n",
        "    if \"DeltaTOTAL\" not in normalized:\n",
        "        normalized[\"DeltaTOTAL\"] = sum([\n",
        "            normalized.get(\"DeltaE_vdw\", 0.0),\n",
        "            normalized.get(\"DeltaE_ele\", 0.0),\n",
        "            normalized.get(\"DeltaG_pol\", 0.0),\n",
        "            normalized.get(\"DeltaG_np\", 0.0),\n",
        "        ])\n",
        "    return normalized\n",
        "\n",
        "def run_entropy_qha(rep_id, tpr, xtc, ndx):\n",
        "    \"\"\"Compute -TΔS via QHA using gmx covar + gmx anaeig.\n",
        "       Output: value (kJ/mol).\"\"\"\n",
        "    out_dir = f\"rep{rep_id}\"\n",
        "    # Covariance (eigenvalues/eigenvectors)\n",
        "    cmd_covar = f\"echo {COVAR_GROUPS} | gmx covar -s {tpr} -f {xtc} -n {ndx} -o {out_dir}/eigenval.xvg -v {out_dir}/eigenvec.trr -quiet\"\n",
        "    run(cmd_covar)\n",
        "    # Entropy from eigenmodes\n",
        "    cmd_ana = f\"echo {ANAEIG_GROUP} | gmx anaeig -v {out_dir}/eigenvec.trr -entropy {out_dir}/entropy.xvg -quiet\"\n",
        "    run(cmd_ana)\n",
        "\n",
        "    # Parse entropy.xvg: typically last numeric column per line; take the final line\n",
        "    tds = None\n",
        "    with open(f\"{out_dir}/entropy.xvg\") as f:\n",
        "        for line in f:\n",
        "            if line.startswith((\"#\", \"@\")) or not line.strip():\n",
        "                continue\n",
        "            parts = line.split()\n",
        "            try:\n",
        "                val = float(parts[-1])\n",
        "                tds = val  # overwrite until last line\n",
        "            except:\n",
        "                pass\n",
        "    if tds is None:\n",
        "        raise RuntimeError(f\"Could not parse -TΔS from rep{rep_id}/entropy.xvg\")\n",
        "    return tds  # already in kJ/mol\n"
      ],
      "metadata": {
        "id": "Cyv5XffIAcY2"
      },
      "execution_count": null,
      "outputs": []
    },
    {
      "cell_type": "code",
      "source": [
        "# -----------------------------\n",
        "# 4) Run pipeline for 3 replicates\n",
        "# -----------------------------\n",
        "reps = {\n",
        "    1: {\"tpr\": \"topol1.tpr\", \"xtc\": \"traj1.xtc\", \"ndx\": \"index1.ndx\", \"inp\": \"mmpbsa1.in\"},\n",
        "    2: {\"tpr\": \"topol2.tpr\", \"xtc\": \"traj2.xtc\", \"ndx\": \"index2.ndx\", \"inp\": \"mmpbsa2.in\"},\n",
        "    3: {\"tpr\": \"topol3.tpr\", \"xtc\": \"traj3.xtc\", \"ndx\": \"index3.ndx\", \"inp\": \"mmpbsa3.in\"},\n",
        "}\n",
        "\n",
        "rows = []\n",
        "for i, spec in reps.items():\n",
        "    print(f\"\\n===== Running replicate {i} =====\")\n",
        "    mm = run_mmpbsa(i, spec[\"tpr\"], spec[\"xtc\"], spec[\"ndx\"], spec[\"inp\"])\n",
        "    tds = run_entropy_qha(i, spec[\"tpr\"], spec[\"xtc\"], spec[\"ndx\"])\n",
        "    row = {\n",
        "        \"Replicate\": f\"Rep{i}\",\n",
        "        \"ΔE_vdw\": mm.get(\"DeltaE_vdw\", float(\"nan\")),\n",
        "        \"ΔE_ele\": mm.get(\"DeltaE_ele\", float(\"nan\")),\n",
        "        \"ΔG_pol\": mm.get(\"DeltaG_pol\", float(\"nan\")),\n",
        "        \"ΔG_np\":  mm.get(\"DeltaG_np\", float(\"nan\")),\n",
        "        \"ΔH\":     (mm.get(\"DeltaE_vdw\",0)+mm.get(\"DeltaE_ele\",0)+mm.get(\"DeltaG_pol\",0)+mm.get(\"DeltaG_np\",0)),\n",
        "        \"-TΔS\":   tds,\n",
        "    }\n",
        "    row[\"ΔG_total\"] = row[\"ΔH\"] + row[\"-TΔS\"]\n",
        "    rows.append(row)\n",
        "\n",
        "df = pd.DataFrame(rows).set_index(\"Replicate\")\n",
        "\n",
        "# Stats\n",
        "mean = df.mean(numeric_only=True)\n",
        "std  = df.std(numeric_only=True)\n",
        "\n",
        "df_stats = pd.concat([df, pd.DataFrame([mean, std], index=[\"Mean\",\"Std\"])], axis=0)\n",
        "display(df_stats)\n",
        "\n",
        "# Save CSV\n",
        "out_csv = \"Binding_Energy_3Replicates_withEntropy.csv\"\n",
        "df_stats.to_csv(out_csv, float_format=\"%.4f\")\n",
        "print(f\"✅ Saved: {out_csv}\")"
      ],
      "metadata": {
        "id": "Z1WN-cYXAm_D"
      },
      "execution_count": null,
      "outputs": []
    },
    {
      "cell_type": "code",
      "source": [
        "# -----------------------------\n",
        "# 5) Visualization — bar charts\n",
        "# -----------------------------\n",
        "# (a) Per-replicate decomposition\n",
        "ax = df[[\"ΔE_vdw\",\"ΔE_ele\",\"ΔG_pol\",\"ΔG_np\",\"ΔH\",\"-TΔS\",\"ΔG_total\"]].plot(kind=\"bar\", figsize=(12,6), edgecolor=\"black\")\n",
        "ax.set_ylabel(\"Energy (kJ/mol)\")\n",
        "ax.set_title(\"Binding Free Energy Decomposition (with Entropy) — 3 Replicates\")\n",
        "ax.set_xticklabels(df.index, rotation=0)\n",
        "plt.tight_layout()\n",
        "plt.savefig(\"Energy_Decomposition_3Replicates_withEntropy.png\", dpi=300)\n",
        "plt.show()\n",
        "print(\"📊 Saved: Energy_Decomposition_3Replicates_withEntropy.png\")\n",
        "\n",
        "# (b) Summary means ± std for key terms\n",
        "summary_terms = [\"ΔE_vdw\",\"ΔE_ele\",\"ΔG_pol\",\"ΔG_np\",\"ΔH\",\"-TΔS\",\"ΔG_total\"]\n",
        "means = mean[summary_terms]\n",
        "errs  = std[summary_terms]\n",
        "\n",
        "plt.figure(figsize=(10,6))\n",
        "bars = plt.bar(summary_terms, means, yerr=errs, capsize=4, edgecolor=\"black\")\n",
        "plt.ylabel(\"Energy (kJ/mol)\")\n",
        "plt.title(\"Mean ± SD across Replicates — Energy Contributions\")\n",
        "plt.xticks(rotation=45, ha=\"right\")\n",
        "plt.tight_layout()\n",
        "plt.savefig(\"Energy_Decomposition_Mean_SD.png\", dpi=1200)\n",
        "plt.show()\n",
        "print(\"📊 Saved: Energy_Decomposition_Mean_SD.png\")\n",
        "\n",
        "print(\"✅ Done.\")"
      ],
      "metadata": {
        "id": "JaZwjHLA_HPF"
      },
      "execution_count": null,
      "outputs": []
    }
  ]
}