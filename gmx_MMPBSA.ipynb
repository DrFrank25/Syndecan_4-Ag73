{
  "nbformat": 4,
  "nbformat_minor": 0,
  "metadata": {
    "colab": {
      "provenance": [],
      "authorship_tag": "ABX9TyNtZrr94BieFa7Epv0716ZK",
      "include_colab_link": true
    },
    "kernelspec": {
      "name": "python3",
      "display_name": "Python 3"
    },
    "language_info": {
      "name": "python"
    }
  },
  "cells": [
    {
      "cell_type": "markdown",
      "metadata": {
        "id": "view-in-github",
        "colab_type": "text"
      },
      "source": [
        "<a href=\"https://colab.research.google.com/github/DrFrank25/Syndecan_4-Ag73/blob/main/gmx_MMPBSA.ipynb\" target=\"_parent\"><img src=\"https://colab.research.google.com/assets/colab-badge.svg\" alt=\"Open In Colab\"/></a>"
      ]
    },
    {
      "cell_type": "markdown",
      "source": [
        "**Binding Free Energy Calculation (MM-PBSA + Entropy)**"
      ],
      "metadata": {
        "id": "t0ibjtuO-gY_"
      }
    },
    {
      "cell_type": "code",
      "execution_count": null,
      "metadata": {
        "id": "c2lcaQ4L-XrI"
      },
      "outputs": [],
      "source": [
        "# ==========================================\n",
        "# 🚀 Binding Free Energy Calculation (MM-PBSA + Entropy) in Colab\n",
        "# ==========================================\n",
        "# -- Import Libraris ----\n",
        "import os\n",
        "import subprocess\n",
        "import pandas as pd\n",
        "import matplotlib.pyplot as plt\n",
        "from google.colab import files"
      ]
    },
    {
      "cell_type": "code",
      "source": [
        "# ===============================\n",
        "# 1) Install GROMACS + gmx_MMPBSA\n",
        "# ===============================\n",
        "!mamba install -y -c conda-forge gromacs gmx-mmpbsa\n"
      ],
      "metadata": {
        "id": "a4W6xbxS-t9s"
      },
      "execution_count": null,
      "outputs": []
    },
    {
      "cell_type": "code",
      "source": [
        "# ===============================\n",
        "# 2) Upload input files\n",
        "# ===============================\n",
        "print(\"📂 Please upload files for 3 replicates:\")\n",
        "print(\"   - topol1.tpr, traj1.xtc, index1.ndx, mmpbsa1.in\")\n",
        "print(\"   - topol2.tpr, traj2.xtc, index2.ndx, mmpbsa2.in\")\n",
        "print(\"   - topol3.tpr, traj3.xtc, index3.ndx, mmpbsa3.in\")\n",
        "uploaded = files.upload()"
      ],
      "metadata": {
        "id": "Tv6ndAzT-vO0"
      },
      "execution_count": null,
      "outputs": []
    },
    {
      "cell_type": "code",
      "source": [
        "# ===============================\n",
        "# 3) Function to run MM-PBSA + Entropy\n",
        "# ===============================\n",
        "def run_mmpbsa_entropy(rep_id, tpr, xtc, ndx, inp):\n",
        "    out_dir = f\"MMPBSA_rep{rep_id}\"\n",
        "    os.makedirs(out_dir, exist_ok=True)\n",
        "\n",
        "    # Run MM-PBSA with entropy calculation enabled in input (.in)\n",
        "    cmd = f\"g_mmpbsa -f {xtc} -s {tpr} -n {ndx} -i {inp} -o {out_dir}/FINAL_RESULTS_MMPBSA.dat -eo {out_dir}/entropy_QHA.dat -nogui\"\n",
        "    subprocess.run(cmd, shell=True, check=True)\n",
        "\n",
        "    results = {}\n",
        "    # Parse enthalpy and solvation contributions\n",
        "    with open(f\"{out_dir}/FINAL_RESULTS_MMPBSA.dat\") as f:\n",
        "        for line in f:\n",
        "            if line.strip() and not line.startswith(\"#\"):\n",
        "                parts = line.split()\n",
        "                if len(parts) >= 2:\n",
        "                    try:\n",
        "                        results[parts[0]] = float(parts[1])\n",
        "                    except:\n",
        "                        pass\n",
        "\n",
        "    # Parse entropy term (-TΔS) from QHA\n",
        "    with open(f\"{out_dir}/entropy_QHA.dat\") as f:\n",
        "        for line in f:\n",
        "            if \"TΔS\" in line or \"TS\" in line:\n",
        "                parts = line.split()\n",
        "                try:\n",
        "                    results[\"-TΔS\"] = float(parts[-1])  # usually last column\n",
        "                except:\n",
        "                    pass\n",
        "\n",
        "    # Compute ΔH and ΔG_total\n",
        "    results[\"ΔH\"] = results.get(\"DeltaE_vdw\",0) + results.get(\"DeltaE_ele\",0) + results.get(\"DeltaG_pol\",0) + results.get(\"DeltaG_np\",0)\n",
        "    results[\"ΔG_total\"] = results[\"ΔH\"] + results.get(\"-TΔS\", 0)\n",
        "\n",
        "    return results"
      ],
      "metadata": {
        "id": "dOlDDtl9-2gJ"
      },
      "execution_count": null,
      "outputs": []
    },
    {
      "cell_type": "code",
      "source": [
        "# ===============================\n",
        "# 4) Run MM-PBSA for 3 replicates\n",
        "# ===============================\n",
        "replicas = {}\n",
        "replicas[\"Replicate_1\"] = run_mmpbsa_entropy(1, \"topol1.tpr\", \"traj1.xtc\", \"index1.ndx\", \"mmpbsa1.in\")\n",
        "replicas[\"Replicate_2\"] = run_mmpbsa_entropy(2, \"topol2.tpr\", \"traj2.xtc\", \"index2.ndx\", \"mmpbsa2.in\")\n",
        "replicas[\"Replicate_3\"] = run_mmpbsa_entropy(3, \"topol3.tpr\", \"traj3.xtc\", \"index3.ndx\", \"mmpbsa3.in\")\n"
      ],
      "metadata": {
        "id": "Cyv5XffIAcY2"
      },
      "execution_count": null,
      "outputs": []
    },
    {
      "cell_type": "code",
      "source": [
        "# ===============================\n",
        "# 5) Build results DataFrame\n",
        "# ===============================\n",
        "df = pd.DataFrame(replicas).T\n",
        "df = df[[\"DeltaE_vdw\", \"DeltaE_ele\", \"DeltaG_pol\", \"DeltaG_np\", \"ΔH\", \"-TΔS\", \"ΔG_total\"]]\n",
        "\n",
        "# Add statistics (mean ± std)\n",
        "df.loc[\"Mean\"] = df.mean()\n",
        "df.loc[\"Std\"] = df.std()\n",
        "\n",
        "df.to_csv(\"Binding_Energy_3Replicates_withEntropy.csv\")\n",
        "print(\"✅ Results saved to Binding_Energy_3Replicates_withEntropy.csv\")\n",
        "\n",
        "display(df)\n"
      ],
      "metadata": {
        "id": "Z1WN-cYXAm_D"
      },
      "execution_count": null,
      "outputs": []
    },
    {
      "cell_type": "code",
      "source": [
        "# ===============================\n",
        "# 6) Visualization - Energy Contributions\n",
        "# ===============================\n",
        "plt.figure(figsize=(12,6))\n",
        "\n",
        "df_plot = df.drop([\"Mean\",\"Std\"])  # only replicates\n",
        "df_plot.plot(kind=\"bar\", figsize=(12,6), edgecolor=\"black\")\n",
        "\n",
        "plt.ylabel(\"Energy (kJ/mol)\")\n",
        "plt.title(\"Binding Free Energy Decomposition (with Entropy) - 3 Replicates\")\n",
        "plt.xticks(rotation=0)\n",
        "plt.legend(title=\"Energy term\")\n",
        "plt.tight_layout()\n",
        "plt.savefig(\"Energy_Decomposition_3Replicates_withEntropy.png\", dpi=300)\n",
        "plt.show()\n",
        "\n",
        "print(\"📊 Plot saved as Energy_Decomposition_3Replicates_withEntropy.png\")"
      ],
      "metadata": {
        "id": "JaZwjHLA_HPF"
      },
      "execution_count": null,
      "outputs": []
    }
  ]
}