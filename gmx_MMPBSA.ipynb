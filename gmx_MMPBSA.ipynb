{
  "nbformat": 4,
  "nbformat_minor": 0,
  "metadata": {
    "colab": {
      "provenance": [],
      "authorship_tag": "ABX9TyOUkrjPty5+3HRpwHx6KSJ0",
      "include_colab_link": true
    },
    "kernelspec": {
      "name": "python3",
      "display_name": "Python 3"
    },
    "language_info": {
      "name": "python"
    }
  },
  "cells": [
    {
      "cell_type": "markdown",
      "metadata": {
        "id": "view-in-github",
        "colab_type": "text"
      },
      "source": [
        "<a href=\"https://colab.research.google.com/github/DrFrank25/Syndecan_4-Ag73/blob/main/gmx_MMPBSA.ipynb\" target=\"_parent\"><img src=\"https://colab.research.google.com/assets/colab-badge.svg\" alt=\"Open In Colab\"/></a>"
      ]
    },
    {
      "cell_type": "markdown",
      "source": [
        "**Binding Free Energy Calculation (MM-PBSA + Entropy)**"
      ],
      "metadata": {
        "id": "t0ibjtuO-gY_"
      }
    },
    {
      "cell_type": "code",
      "execution_count": null,
      "metadata": {
        "id": "c2lcaQ4L-XrI"
      },
      "outputs": [],
      "source": [
        "# ==========================================\n",
        "# 🚀 Binding Free Energy Calculation (MM-PBSA + Entropy) in Colab\n",
        "# ==========================================\n",
        "# -- Import Libraris ----\n",
        "import os\n",
        "import subprocess\n",
        "import pandas as pd\n",
        "import matplotlib.pyplot as plt"
      ]
    },
    {
      "cell_type": "code",
      "source": [
        "# ===============================\n",
        "# 1) Install GROMACS + gmx_MMPBSA\n",
        "# ===============================\n",
        "!mamba install -y -c conda-forge gromacs gmx-mmpbsa\n"
      ],
      "metadata": {
        "id": "a4W6xbxS-t9s"
      },
      "execution_count": null,
      "outputs": []
    },
    {
      "cell_type": "code",
      "source": [
        "# ===============================\n",
        "# 2) Upload the required input files\n",
        "# ===============================\n",
        "from google.colab import files\n",
        "\n",
        "print(\"📂 Please upload: traj.xtc, topol.tpr, index.ndx, and mmpbsa.in\")\n",
        "uploaded = files.upload()"
      ],
      "metadata": {
        "id": "Tv6ndAzT-vO0"
      },
      "execution_count": null,
      "outputs": []
    },
    {
      "cell_type": "code",
      "source": [
        "# ===============================\n",
        "# 3) Run MM-PBSA (Enthalpy contribution)\n",
        "# ===============================\n",
        "!mkdir -p MMPBSA\n",
        "\n",
        "cmd_mmpbsa = \"\"\"\n",
        "g_mmpbsa -f traj.xtc -s topol.tpr -n index.ndx -i mmpbsa.in \\\n",
        "         -o MMPBSA/FINAL_RESULTS_MMPBSA.dat -nogui\n",
        "\"\"\"\n",
        "subprocess.run(cmd_mmpbsa, shell=True, check=True)\n",
        "\n",
        "print(\"✅ MM-PBSA calculation completed.\")\n"
      ],
      "metadata": {
        "id": "dOlDDtl9-2gJ"
      },
      "execution_count": null,
      "outputs": []
    },
    {
      "cell_type": "code",
      "source": [
        "# ===============================\n",
        "# 4) Entropy calculation (Quasi-harmonic Analysis)\n",
        "# ===============================\n",
        "# --- Covariance matrix ---\n",
        "cmd_covar = \"echo 1 1 | gmx covar -s topol.tpr -f traj.xtc -o eigenval.xvg -v eigenvec.trr\"\n",
        "subprocess.run(cmd_covar, shell=True, check=True)\n",
        "\n",
        "# --- Eigenvector analysis with entropy estimation ---\n",
        "cmd_anaeig = \"echo 1 | gmx anaeig -f traj.xtc -v eigenvec.trr -entropy entropy.xvg\"\n",
        "subprocess.run(cmd_anaeig, shell=True, check=True)\n",
        "\n",
        "print(\"✅ Entropy calculation (QHA) completed.\")"
      ],
      "metadata": {
        "id": "JaZwjHLA_HPF"
      },
      "execution_count": null,
      "outputs": []
    },
    {
      "cell_type": "code",
      "source": [
        "# ===============================\n",
        "# 5) Parse results\n",
        "# ===============================\n",
        "\n",
        "# --- Parse MM-PBSA results ---\n",
        "mm_file = \"MMPBSA/FINAL_RESULTS_MMPBSA.dat\"\n",
        "mm_results = {}\n",
        "with open(mm_file) as f:\n",
        "    for line in f:\n",
        "        if line.strip() and not line.startswith(\"#\"):\n",
        "            parts = line.split()\n",
        "            if len(parts) >= 2:\n",
        "                try:\n",
        "                    mm_results[parts[0]] = float(parts[1])\n",
        "                except:\n",
        "                    pass\n",
        "\n",
        "# --- Parse entropy results ---\n",
        "entropy_file = \"entropy.xvg\"\n",
        "TDeltaS = None\n",
        "with open(entropy_file) as f:\n",
        "    for line in f:\n",
        "        if not line.startswith((\"@\", \"#\")):\n",
        "            vals = line.split()\n",
        "            if len(vals) >= 2:\n",
        "                try:\n",
        "                    TDeltaS = float(vals[1])\n",
        "                except:\n",
        "                    pass\n",
        "TDeltaS = abs(TDeltaS) if TDeltaS else 0.0"
      ],
      "metadata": {
        "id": "L7iGXbbV_HSU"
      },
      "execution_count": null,
      "outputs": []
    },
    {
      "cell_type": "code",
      "source": [
        "# ===============================\n",
        "# 6) Compute the final binding free energy\n",
        "# ===============================\n",
        "DeltaH = mm_results.get(\"DeltaTOTAL\", 0.0)\n",
        "DeltaG_total = DeltaH - TDeltaS\n"
      ],
      "metadata": {
        "id": "-JF_87_x_HWc"
      },
      "execution_count": null,
      "outputs": []
    },
    {
      "cell_type": "code",
      "source": [
        "# ===============================\n",
        "# 7) Save final results\n",
        "# ===============================\n",
        "out = {\n",
        "    \"ΔE_vdw\": mm_results.get(\"DeltaE_vdw\", None),\n",
        "    \"ΔE_ele\": mm_results.get(\"DeltaE_ele\", None),\n",
        "    \"ΔG_pol\": mm_results.get(\"DeltaG_pol\", None),\n",
        "    \"ΔG_np\":  mm_results.get(\"DeltaG_np\", None),\n",
        "    \"ΔH (MM-PBSA)\": DeltaH,\n",
        "    \"-TΔS (Entropy)\": -TDeltaS,\n",
        "    \"ΔG_total (Binding Free Energy)\": DeltaG_total\n",
        "}\n",
        "\n",
        "df = pd.DataFrame([out])\n",
        "df.to_csv(\"Final_Binding_Free_Energy.csv\", index=False)\n",
        "print(\"✅ Final results saved as Final_Binding_Free_Energy.csv\")\n",
        "\n",
        "df"
      ],
      "metadata": {
        "id": "CmTWjaxB-2kA"
      },
      "execution_count": null,
      "outputs": []
    },
    {
      "cell_type": "code",
      "source": [
        "# ===============================\n",
        "# 8) Visualization - Energy Decomposition\n",
        "# ===============================\n",
        "labels = list(out.keys())\n",
        "values = list(out.values())\n",
        "\n",
        "plt.figure(figsize=(10,6))\n",
        "bars = plt.bar(labels, values, color=\"skyblue\", edgecolor=\"black\")\n",
        "plt.xticks(rotation=45, ha=\"right\")\n",
        "plt.ylabel(\"Energy (kJ/mol)\")\n",
        "plt.title(\"Binding Free Energy Decomposition (MM-PBSA + Entropy)\")\n",
        "\n",
        "# Annotate values on top of bars\n",
        "for bar in bars:\n",
        "    height = bar.get_height()\n",
        "    plt.text(bar.get_x() + bar.get_width()/2, height,\n",
        "             f\"{height:.2f}\", ha='center', va='bottom', fontsize=8)\n",
        "\n",
        "plt.tight_layout()\n",
        "plt.savefig(\"Energy_Decomposition.png\", dpi=1200)\n",
        "plt.show()\n",
        "\n",
        "print(\"📊 Plot saved as Energy_Decomposition.png\")"
      ],
      "metadata": {
        "id": "0dnII2CI_hCM"
      },
      "execution_count": null,
      "outputs": []
    }
  ]
}